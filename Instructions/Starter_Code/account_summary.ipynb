{
 "cells": [
  {
   "cell_type": "code",
   "execution_count": 52,
   "metadata": {},
   "outputs": [],
   "source": [
    "import os\n",
    "import plaid\n",
    "import requests\n",
    "import datetime\n",
    "import json\n",
    "import pandas as pd\n",
    "%matplotlib inline"
   ]
  },
  {
   "cell_type": "code",
   "execution_count": 53,
   "metadata": {},
   "outputs": [],
   "source": [
    "def pretty_print_response(response):\n",
    "  print(json.dumps(response, indent=4, sort_keys=True))"
   ]
  },
  {
   "cell_type": "code",
   "execution_count": 54,
   "metadata": {},
   "outputs": [],
   "source": [
    "PLAID_CLIENT_ID = os.getenv('PLAID_CLIENT_ID')\n",
    "PLAID_SECRET = os.getenv('PLAID_SECRET')\n",
    "PLAID_PUBLIC_KEY = os.getenv('PLAID_PUBLIC_KEY')\n",
    "PLAID_ENV = os.getenv('PLAID_ENV', 'sandbox')\n",
    "PLAID_PRODUCTS = os.getenv('PLAID_PRODUCTS', 'transactions')"
   ]
  },
  {
   "cell_type": "code",
   "execution_count": 55,
   "metadata": {},
   "outputs": [
    {
     "data": {
      "text/plain": [
       "str"
      ]
     },
     "execution_count": 55,
     "metadata": {},
     "output_type": "execute_result"
    }
   ],
   "source": [
    "# checking I'm able to read environmet variables\n",
    "type(PLAID_CLIENT_ID)"
   ]
  },
  {
   "cell_type": "markdown",
   "metadata": {},
   "source": [
    "# Plaid Access Token\n",
    "\n",
    "In this section, you will use the plaid-python api to generate the correct authentication tokens to access data in the free developer Sandbox. This mimics how you might connect to your own account or a customer account, but due to privacy issues, this homework will only require connecting to and analyzing the fake data from the developer sandbox that Plaid provides. \n",
    "\n",
    "Complete the following steps to generate an access token:\n",
    "1. Create a client to connect to plaid\n",
    "2. Use the client to generate a public token and request the following items: \n",
    "['transactions', 'income', 'assets']\n",
    "3. Exchange the public token for an access token\n",
    "4. Test the access token by requesting and printing the available test accounts"
   ]
  },
  {
   "cell_type": "markdown",
   "metadata": {},
   "source": [
    "### 1. Create a client to connect to plaid"
   ]
  },
  {
   "cell_type": "code",
   "execution_count": 56,
   "metadata": {},
   "outputs": [],
   "source": [
    "INSTITUTION_ID = \"ins_109508\""
   ]
  },
  {
   "cell_type": "code",
   "execution_count": 57,
   "metadata": {},
   "outputs": [],
   "source": [
    "client = plaid.Client(client_id=PLAID_CLIENT_ID, secret=PLAID_SECRET, public_key=PLAID_PUBLIC_KEY, environment='sandbox')"
   ]
  },
  {
   "cell_type": "markdown",
   "metadata": {},
   "source": [
    "### 2. Generate a public token"
   ]
  },
  {
   "cell_type": "code",
   "execution_count": 58,
   "metadata": {},
   "outputs": [],
   "source": [
    "create_tkn_response = client.Sandbox.public_token.create(INSTITUTION_ID, ['transactions','income','assets'])"
   ]
  },
  {
   "cell_type": "markdown",
   "metadata": {},
   "source": [
    "### 3. Exchange the public token for an access token"
   ]
  },
  {
   "cell_type": "code",
   "execution_count": 59,
   "metadata": {},
   "outputs": [],
   "source": [
    "exchange_response = client.Item.public_token.exchange(create_tkn_response['public_token'])"
   ]
  },
  {
   "cell_type": "markdown",
   "metadata": {},
   "source": [
    "### 4. Fetch Accounts"
   ]
  },
  {
   "cell_type": "code",
   "execution_count": 60,
   "metadata": {},
   "outputs": [],
   "source": [
    "access_token = exchange_response['access_token']"
   ]
  },
  {
   "cell_type": "markdown",
   "metadata": {},
   "source": [
    "---"
   ]
  },
  {
   "cell_type": "markdown",
   "metadata": {},
   "source": [
    "# Account Transactions with Plaid\n",
    "\n",
    "In this section, you will use the Plaid Python SDK to connect to the Developer Sandbox account and grab a list of transactions. You will need to complete the following steps:\n",
    "\n",
    "\n",
    "1. Use the access token to fetch the transactions for the last 90 days\n",
    "2. Print the categories for each transaction type\n",
    "3. Create a new DataFrame using the following fields from the JSON transaction data: `date, name, amount, category`. (For categories with more than one label, just use the first category label in the list)\n",
    "4. Convert the data types to the appropriate types (i.e. datetimeindex for the date and float for the amount)"
   ]
  },
  {
   "cell_type": "markdown",
   "metadata": {},
   "source": [
    "### 1. Fetch the Transactions for the last 90 days"
   ]
  },
  {
   "cell_type": "code",
   "execution_count": 61,
   "metadata": {},
   "outputs": [],
   "source": [
    "start_date = '{:%Y-%m-%d}'.format(datetime.datetime.now() + datetime.timedelta(-90))\n",
    "end_date = '{:%Y-%m-%d}'.format(datetime.datetime.now()) \n",
    "transactions_response = client.Transactions.get(access_token, start_date, end_date)"
   ]
  },
  {
   "cell_type": "markdown",
   "metadata": {},
   "source": [
    "### 2. Print the categories for each transaction"
   ]
  },
  {
   "cell_type": "code",
   "execution_count": 62,
   "metadata": {},
   "outputs": [
    {
     "name": "stdout",
     "output_type": "stream",
     "text": [
      "['Payment']\n",
      "['Food and Drink', 'Restaurants', 'Fast Food']\n",
      "['Shops', 'Sporting Goods']\n",
      "['Payment', 'Credit Card']\n",
      "['Travel', 'Taxi']\n",
      "['Transfer', 'Debit']\n",
      "['Transfer', 'Deposit']\n",
      "['Recreation', 'Gyms and Fitness Centers']\n",
      "['Travel', 'Airlines and Aviation Services']\n",
      "['Food and Drink', 'Restaurants', 'Fast Food']\n",
      "['Food and Drink', 'Restaurants', 'Coffee Shop']\n",
      "['Food and Drink', 'Restaurants']\n",
      "['Transfer', 'Credit']\n",
      "['Travel', 'Airlines and Aviation Services']\n",
      "['Travel', 'Taxi']\n",
      "['Food and Drink', 'Restaurants']\n",
      "['Payment']\n",
      "['Food and Drink', 'Restaurants', 'Fast Food']\n",
      "['Shops', 'Sporting Goods']\n",
      "['Payment', 'Credit Card']\n",
      "['Travel', 'Taxi']\n",
      "['Transfer', 'Debit']\n",
      "['Transfer', 'Deposit']\n",
      "['Recreation', 'Gyms and Fitness Centers']\n",
      "['Travel', 'Airlines and Aviation Services']\n",
      "['Food and Drink', 'Restaurants', 'Fast Food']\n",
      "['Food and Drink', 'Restaurants', 'Coffee Shop']\n",
      "['Food and Drink', 'Restaurants']\n",
      "['Transfer', 'Credit']\n",
      "['Travel', 'Airlines and Aviation Services']\n",
      "['Travel', 'Taxi']\n",
      "['Food and Drink', 'Restaurants']\n",
      "['Payment']\n",
      "['Food and Drink', 'Restaurants', 'Fast Food']\n",
      "['Shops', 'Sporting Goods']\n",
      "['Payment', 'Credit Card']\n",
      "['Travel', 'Taxi']\n",
      "['Transfer', 'Debit']\n",
      "['Transfer', 'Deposit']\n",
      "['Recreation', 'Gyms and Fitness Centers']\n",
      "['Travel', 'Airlines and Aviation Services']\n",
      "['Food and Drink', 'Restaurants', 'Fast Food']\n",
      "['Food and Drink', 'Restaurants', 'Coffee Shop']\n",
      "['Food and Drink', 'Restaurants']\n",
      "['Transfer', 'Credit']\n",
      "['Travel', 'Airlines and Aviation Services']\n",
      "['Travel', 'Taxi']\n",
      "['Food and Drink', 'Restaurants']\n",
      "['Payment']\n",
      "['Food and Drink', 'Restaurants', 'Fast Food']\n",
      "['Shops', 'Sporting Goods']\n"
     ]
    }
   ],
   "source": [
    "for transactions in transactions_response['transactions']:\n",
    "    print(transactions['category'])  "
   ]
  },
  {
   "cell_type": "markdown",
   "metadata": {},
   "source": [
    "### 3. Create a new DataFrame using the following fields from the JSON transaction data: date, name, amount, category. \n",
    "\n",
    "(For categories with more than one label, just use the first category label in the list)"
   ]
  },
  {
   "cell_type": "code",
   "execution_count": 63,
   "metadata": {},
   "outputs": [],
   "source": [
    "# A dataframe can be defined as a list of lists:\n",
    "transactions_lst = []\n",
    "for transactions in transactions_response['transactions']:\n",
    "    transactions_date = transactions['date']\n",
    "    transactions_name = transactions['name']\n",
    "    transactions_amount = transactions['amount']\n",
    "    transactions_category = transactions['category']\n",
    "    transactions_lst.append([transactions_date,transactions_name,transactions_amount,transactions_category[0]])     "
   ]
  },
  {
   "cell_type": "code",
   "execution_count": 68,
   "metadata": {},
   "outputs": [
    {
     "data": {
      "text/html": [
       "<div>\n",
       "<style scoped>\n",
       "    .dataframe tbody tr th:only-of-type {\n",
       "        vertical-align: middle;\n",
       "    }\n",
       "\n",
       "    .dataframe tbody tr th {\n",
       "        vertical-align: top;\n",
       "    }\n",
       "\n",
       "    .dataframe thead th {\n",
       "        text-align: right;\n",
       "    }\n",
       "</style>\n",
       "<table border=\"1\" class=\"dataframe\">\n",
       "  <thead>\n",
       "    <tr style=\"text-align: right;\">\n",
       "      <th></th>\n",
       "      <th>Date</th>\n",
       "      <th>Name</th>\n",
       "      <th>Amount</th>\n",
       "      <th>Category</th>\n",
       "    </tr>\n",
       "  </thead>\n",
       "  <tbody>\n",
       "    <tr>\n",
       "      <th>0</th>\n",
       "      <td>2020-04-24</td>\n",
       "      <td>AUTOMATIC PAYMENT - THANK</td>\n",
       "      <td>2078.5</td>\n",
       "      <td>Payment</td>\n",
       "    </tr>\n",
       "    <tr>\n",
       "      <th>1</th>\n",
       "      <td>2020-04-24</td>\n",
       "      <td>KFC</td>\n",
       "      <td>500.0</td>\n",
       "      <td>Food and Drink</td>\n",
       "    </tr>\n",
       "    <tr>\n",
       "      <th>2</th>\n",
       "      <td>2020-04-24</td>\n",
       "      <td>Madison Bicycle Shop</td>\n",
       "      <td>500.0</td>\n",
       "      <td>Shops</td>\n",
       "    </tr>\n",
       "    <tr>\n",
       "      <th>3</th>\n",
       "      <td>2020-04-15</td>\n",
       "      <td>CREDIT CARD 3333 PAYMENT *//</td>\n",
       "      <td>25.0</td>\n",
       "      <td>Payment</td>\n",
       "    </tr>\n",
       "    <tr>\n",
       "      <th>4</th>\n",
       "      <td>2020-04-15</td>\n",
       "      <td>Uber</td>\n",
       "      <td>5.4</td>\n",
       "      <td>Travel</td>\n",
       "    </tr>\n",
       "  </tbody>\n",
       "</table>\n",
       "</div>"
      ],
      "text/plain": [
       "         Date                          Name  Amount        Category\n",
       "0  2020-04-24     AUTOMATIC PAYMENT - THANK  2078.5         Payment\n",
       "1  2020-04-24                           KFC   500.0  Food and Drink\n",
       "2  2020-04-24          Madison Bicycle Shop   500.0           Shops\n",
       "3  2020-04-15  CREDIT CARD 3333 PAYMENT *//    25.0         Payment\n",
       "4  2020-04-15                          Uber     5.4          Travel"
      ]
     },
     "execution_count": 68,
     "metadata": {},
     "output_type": "execute_result"
    }
   ],
   "source": [
    "# Once we have our list of lists we just use DataFrame panda method\n",
    "transactions_df = pd.DataFrame(transactions_lst)\n",
    "transactions_df.columns =['Date','Name','Amount','Category']\n",
    "transactions_df.head()"
   ]
  },
  {
   "cell_type": "markdown",
   "metadata": {},
   "source": [
    "### 4. Convert the data types to the appropriate types \n",
    "\n",
    "(i.e. datetimeindex for the date and float for the amount)"
   ]
  },
  {
   "cell_type": "code",
   "execution_count": 18,
   "metadata": {},
   "outputs": [],
   "source": [
    "start_date = '{:%Y-%m-%d}'.format(datetime.datetime.now() + datetime.timedelta(-90))\n",
    "end_date = '{:%Y-%m-%d}'.format(datetime.datetime.now()) \n",
    "transactions_response = client.Transactions.get(access_token, start_date, end_date)"
   ]
  },
  {
   "cell_type": "code",
   "execution_count": 69,
   "metadata": {},
   "outputs": [
    {
     "data": {
      "text/html": [
       "<div>\n",
       "<style scoped>\n",
       "    .dataframe tbody tr th:only-of-type {\n",
       "        vertical-align: middle;\n",
       "    }\n",
       "\n",
       "    .dataframe tbody tr th {\n",
       "        vertical-align: top;\n",
       "    }\n",
       "\n",
       "    .dataframe thead th {\n",
       "        text-align: right;\n",
       "    }\n",
       "</style>\n",
       "<table border=\"1\" class=\"dataframe\">\n",
       "  <thead>\n",
       "    <tr style=\"text-align: right;\">\n",
       "      <th></th>\n",
       "      <th>Name</th>\n",
       "      <th>Amount</th>\n",
       "      <th>Category</th>\n",
       "    </tr>\n",
       "    <tr>\n",
       "      <th>Date</th>\n",
       "      <th></th>\n",
       "      <th></th>\n",
       "      <th></th>\n",
       "    </tr>\n",
       "  </thead>\n",
       "  <tbody>\n",
       "    <tr>\n",
       "      <th>2020-04-24</th>\n",
       "      <td>AUTOMATIC PAYMENT - THANK</td>\n",
       "      <td>2078.5</td>\n",
       "      <td>Payment</td>\n",
       "    </tr>\n",
       "    <tr>\n",
       "      <th>2020-04-24</th>\n",
       "      <td>KFC</td>\n",
       "      <td>500.0</td>\n",
       "      <td>Food and Drink</td>\n",
       "    </tr>\n",
       "    <tr>\n",
       "      <th>2020-04-24</th>\n",
       "      <td>Madison Bicycle Shop</td>\n",
       "      <td>500.0</td>\n",
       "      <td>Shops</td>\n",
       "    </tr>\n",
       "    <tr>\n",
       "      <th>2020-04-15</th>\n",
       "      <td>CREDIT CARD 3333 PAYMENT *//</td>\n",
       "      <td>25.0</td>\n",
       "      <td>Payment</td>\n",
       "    </tr>\n",
       "    <tr>\n",
       "      <th>2020-04-15</th>\n",
       "      <td>Uber</td>\n",
       "      <td>5.4</td>\n",
       "      <td>Travel</td>\n",
       "    </tr>\n",
       "  </tbody>\n",
       "</table>\n",
       "</div>"
      ],
      "text/plain": [
       "                                    Name  Amount        Category\n",
       "Date                                                            \n",
       "2020-04-24     AUTOMATIC PAYMENT - THANK  2078.5         Payment\n",
       "2020-04-24                           KFC   500.0  Food and Drink\n",
       "2020-04-24          Madison Bicycle Shop   500.0           Shops\n",
       "2020-04-15  CREDIT CARD 3333 PAYMENT *//    25.0         Payment\n",
       "2020-04-15                          Uber     5.4          Travel"
      ]
     },
     "execution_count": 69,
     "metadata": {},
     "output_type": "execute_result"
    }
   ],
   "source": [
    "transactions_df['Amount'] = transactions_df['Amount'].astype(float)\n",
    "transactions_df.set_index('Date', inplace = True)\n",
    "transactions_df.head()"
   ]
  },
  {
   "cell_type": "markdown",
   "metadata": {},
   "source": [
    "---"
   ]
  },
  {
   "cell_type": "markdown",
   "metadata": {},
   "source": [
    "# Income Analysis with Plaid\n",
    "\n",
    "In this section, you will use the Plaid Sandbox to complete the following:\n",
    "1. Determine the previous year's gross income and print the results\n",
    "2. Determine the current monthly income and print the results\n",
    "3. Determine the projected yearly income and print the results"
   ]
  },
  {
   "cell_type": "code",
   "execution_count": 22,
   "metadata": {},
   "outputs": [
    {
     "data": {
      "text/plain": [
       "{'income': {'income_streams': [{'confidence': 0.99,\n",
       "    'days': 720,\n",
       "    'monthly_income': 500,\n",
       "    'name': 'UNITED AIRLINES'}],\n",
       "  'last_year_income': 6000,\n",
       "  'last_year_income_before_tax': 7285,\n",
       "  'max_number_of_overlapping_income_streams': 1,\n",
       "  'number_of_income_streams': 1,\n",
       "  'projected_yearly_income': 6085,\n",
       "  'projected_yearly_income_before_tax': 7389},\n",
       " 'request_id': '2ye0cqFDbcNnyf6'}"
      ]
     },
     "execution_count": 22,
     "metadata": {},
     "output_type": "execute_result"
    }
   ],
   "source": [
    "# We need to fetch the income data from the sandbox\n",
    "income_response = client.Income.get(access_token)\n",
    "income_response"
   ]
  },
  {
   "cell_type": "markdown",
   "metadata": {},
   "source": [
    "#### Previous year's gross income"
   ]
  },
  {
   "cell_type": "code",
   "execution_count": 70,
   "metadata": {},
   "outputs": [
    {
     "name": "stdout",
     "output_type": "stream",
     "text": [
      "Last year's income before tax was: $7285\n"
     ]
    }
   ],
   "source": [
    "last_year_incomeBT =income_response['income']['last_year_income_before_tax']\n",
    "print (f\"Last year's income before tax was: ${last_year_incomeBT}\")"
   ]
  },
  {
   "cell_type": "markdown",
   "metadata": {},
   "source": [
    "#### Current Monthly Income"
   ]
  },
  {
   "cell_type": "code",
   "execution_count": 49,
   "metadata": {},
   "outputs": [
    {
     "name": "stdout",
     "output_type": "stream",
     "text": [
      "Current monthly income is: $500\n"
     ]
    }
   ],
   "source": [
    "# we just query the 'income' dictionary with the info\n",
    "income_streams =income_response['income']['income_streams']\n",
    "print (f\"Current monthly income is: ${income_streams[0]['monthly_income']}\")"
   ]
  },
  {
   "cell_type": "markdown",
   "metadata": {},
   "source": [
    "#### Projected Year's Income Before Tax"
   ]
  },
  {
   "cell_type": "code",
   "execution_count": 51,
   "metadata": {},
   "outputs": [
    {
     "name": "stdout",
     "output_type": "stream",
     "text": [
      "Projected Year's Income Before Tax is: $7389\n"
     ]
    }
   ],
   "source": [
    "# we just query the 'income' dictionary with the info\n",
    "projected_year_incomeBT =income_response['income']['projected_yearly_income_before_tax']\n",
    "print (f\"Projected Year's Income Before Tax is: ${projected_year_incomeBT}\")"
   ]
  },
  {
   "cell_type": "markdown",
   "metadata": {},
   "source": [
    "# Budget Analysis\n",
    "In this section, you will use the transactions DataFrame to analyze the customer's budget\n",
    "\n",
    "1. Calculate the total spending per category and print the results (Hint: groupby or count transactions per category)\n",
    "2. Generate a bar chart with the number of transactions for each category \n",
    "3. Calculate the expenses per month\n",
    "4. Plot the total expenses per month"
   ]
  },
  {
   "cell_type": "markdown",
   "metadata": {},
   "source": [
    "### Calculate the expenses per category"
   ]
  },
  {
   "cell_type": "code",
   "execution_count": 338,
   "metadata": {},
   "outputs": [
    {
     "data": {
      "text/html": [
       "<div>\n",
       "<style scoped>\n",
       "    .dataframe tbody tr th:only-of-type {\n",
       "        vertical-align: middle;\n",
       "    }\n",
       "\n",
       "    .dataframe tbody tr th {\n",
       "        vertical-align: top;\n",
       "    }\n",
       "\n",
       "    .dataframe thead th {\n",
       "        text-align: right;\n",
       "    }\n",
       "</style>\n",
       "<table border=\"1\" class=\"dataframe\">\n",
       "  <thead>\n",
       "    <tr style=\"text-align: right;\">\n",
       "      <th></th>\n",
       "      <th>Amount</th>\n",
       "    </tr>\n",
       "    <tr>\n",
       "      <th>Category</th>\n",
       "      <th></th>\n",
       "    </tr>\n",
       "  </thead>\n",
       "  <tbody>\n",
       "    <tr>\n",
       "      <th>Food and Drink</th>\n",
       "      <td>3317.19</td>\n",
       "    </tr>\n",
       "    <tr>\n",
       "      <th>Payment</th>\n",
       "      <td>6310.50</td>\n",
       "    </tr>\n",
       "    <tr>\n",
       "      <th>Recreation</th>\n",
       "      <td>235.50</td>\n",
       "    </tr>\n",
       "    <tr>\n",
       "      <th>Shops</th>\n",
       "      <td>1500.00</td>\n",
       "    </tr>\n",
       "    <tr>\n",
       "      <th>Transfer</th>\n",
       "      <td>20537.34</td>\n",
       "    </tr>\n",
       "    <tr>\n",
       "      <th>Travel</th>\n",
       "      <td>35.19</td>\n",
       "    </tr>\n",
       "  </tbody>\n",
       "</table>\n",
       "</div>"
      ],
      "text/plain": [
       "                  Amount\n",
       "Category                \n",
       "Food and Drink   3317.19\n",
       "Payment          6310.50\n",
       "Recreation        235.50\n",
       "Shops            1500.00\n",
       "Transfer        20537.34\n",
       "Travel             35.19"
      ]
     },
     "execution_count": 338,
     "metadata": {},
     "output_type": "execute_result"
    }
   ],
   "source": [
    "transactions_df.groupby(['Category']).sum()"
   ]
  },
  {
   "cell_type": "code",
   "execution_count": 339,
   "metadata": {},
   "outputs": [
    {
     "data": {
      "text/plain": [
       "array([<matplotlib.axes._subplots.AxesSubplot object at 0x000001B08E011B00>],\n",
       "      dtype=object)"
      ]
     },
     "execution_count": 339,
     "metadata": {},
     "output_type": "execute_result"
    },
    {
     "data": {
      "image/png": "[encoded data removed]",
      "text/plain": [
       "<Figure size 432x288 with 1 Axes>"
      ]
     },
     "metadata": {},
     "output_type": "display_data"
    }
   ],
   "source": [
    "# Spending Categories Pie Chart\n",
    "transactions_df.groupby(['Category']).sum().plot(subplots = True ,legend = False,kind = 'pie', title = 'Spending per category (last 90 days)')"
   ]
  },
  {
   "cell_type": "code",
   "execution_count": 340,
   "metadata": {},
   "outputs": [
    {
     "data": {
      "text/plain": [
       "<matplotlib.axes._subplots.AxesSubplot at 0x1b08f16c898>"
      ]
     },
     "execution_count": 340,
     "metadata": {},
     "output_type": "execute_result"
    },
    {
     "data": {
      "image/png": "[encoded data removed]",
      "text/plain": [
       "<Figure size 432x288 with 1 Axes>"
      ]
     },
     "metadata": {
      "needs_background": "light"
     },
     "output_type": "display_data"
    }
   ],
   "source": [
    "# bar chart with the number of transactions for each category\n",
    "transactions_df.groupby(['Category']).count().plot(legend = False,kind = 'bar', color = 'DarkBlue', title = 'Number of transactions per category (last 90 days)')"
   ]
  },
  {
   "cell_type": "markdown",
   "metadata": {},
   "source": [
    "### Calculate the expenses per month"
   ]
  },
  {
   "cell_type": "code",
   "execution_count": 341,
   "metadata": {},
   "outputs": [
    {
     "data": {
      "text/html": [
       "<div>\n",
       "<style scoped>\n",
       "    .dataframe tbody tr th:only-of-type {\n",
       "        vertical-align: middle;\n",
       "    }\n",
       "\n",
       "    .dataframe tbody tr th {\n",
       "        vertical-align: top;\n",
       "    }\n",
       "\n",
       "    .dataframe thead th {\n",
       "        text-align: right;\n",
       "    }\n",
       "</style>\n",
       "<table border=\"1\" class=\"dataframe\">\n",
       "  <thead>\n",
       "    <tr style=\"text-align: right;\">\n",
       "      <th></th>\n",
       "      <th>Amount</th>\n",
       "    </tr>\n",
       "    <tr>\n",
       "      <th>Date_Y_M</th>\n",
       "      <th></th>\n",
       "    </tr>\n",
       "  </thead>\n",
       "  <tbody>\n",
       "    <tr>\n",
       "      <th>2020-01</th>\n",
       "      <td>4084.83</td>\n",
       "    </tr>\n",
       "    <tr>\n",
       "      <th>2020-02</th>\n",
       "      <td>10145.24</td>\n",
       "    </tr>\n",
       "    <tr>\n",
       "      <th>2020-03</th>\n",
       "      <td>11145.24</td>\n",
       "    </tr>\n",
       "    <tr>\n",
       "      <th>2020-04</th>\n",
       "      <td>6560.41</td>\n",
       "    </tr>\n",
       "  </tbody>\n",
       "</table>\n",
       "</div>"
      ],
      "text/plain": [
       "            Amount\n",
       "Date_Y_M          \n",
       "2020-01    4084.83\n",
       "2020-02   10145.24\n",
       "2020-03   11145.24\n",
       "2020-04    6560.41"
      ]
     },
     "execution_count": 341,
     "metadata": {},
     "output_type": "execute_result"
    }
   ],
   "source": [
    "# create a new column with only year and month from 'Date'\n",
    "transactions_df.reset_index(inplace = True)\n",
    "transactions_df['Date_Y_M']= transactions_df['Date'].str.slice(0, -3)\n",
    "expenses_month_df = transactions_df.groupby(['Date_Y_M']).sum()\n",
    "expenses_month_df"
   ]
  },
  {
   "cell_type": "code",
   "execution_count": 342,
   "metadata": {},
   "outputs": [
    {
     "data": {
      "text/plain": [
       "<matplotlib.axes._subplots.AxesSubplot at 0x1b08f1e9a20>"
      ]
     },
     "execution_count": 342,
     "metadata": {},
     "output_type": "execute_result"
    },
    {
     "data": {
      "image/png": "[encoded data removed]",
      "text/plain": [
       "<Figure size 432x288 with 1 Axes>"
      ]
     },
     "metadata": {
      "needs_background": "light"
     },
     "output_type": "display_data"
    }
   ],
   "source": [
    "# plot expenses per month in a bar plot\n",
    "expenses_month_df.plot(kind = 'bar', title = 'Expenses per month (last 90 days)', color = 'DarkBlue')"
   ]
  },
  {
   "cell_type": "markdown",
   "metadata": {},
   "source": [
    "### Use the API to fetch income data from the sandbox and print the following:"
   ]
  },
  {
   "cell_type": "markdown",
   "metadata": {},
   "source": [
    "#### Last Year's Income Before Tax"
   ]
  },
  {
   "cell_type": "code",
   "execution_count": 22,
   "metadata": {},
   "outputs": [
    {
     "data": {
      "text/plain": [
       "{'income': {'income_streams': [{'confidence': 0.99,\n",
       "    'days': 720,\n",
       "    'monthly_income': 500,\n",
       "    'name': 'UNITED AIRLINES'}],\n",
       "  'last_year_income': 6000,\n",
       "  'last_year_income_before_tax': 7285,\n",
       "  'max_number_of_overlapping_income_streams': 1,\n",
       "  'number_of_income_streams': 1,\n",
       "  'projected_yearly_income': 6085,\n",
       "  'projected_yearly_income_before_tax': 7389},\n",
       " 'request_id': '2ye0cqFDbcNnyf6'}"
      ]
     },
     "execution_count": 22,
     "metadata": {},
     "output_type": "execute_result"
    }
   ],
   "source": [
    "# We need to fetch the income data from the sandbox\n",
    "income_response = client.Income.get(access_token)\n",
    "income_response"
   ]
  },
  {
   "cell_type": "code",
   "execution_count": 25,
   "metadata": {},
   "outputs": [
    {
     "name": "stdout",
     "output_type": "stream",
     "text": [
      "Last year's income before tax was: $7285\n"
     ]
    }
   ],
   "source": [
    "last_year_incomeBT =income_response['income']['last_year_income_before_tax']\n",
    "print (f\"Last year's income before tax was: ${last_year_incomeBT}\")"
   ]
  },
  {
   "cell_type": "markdown",
   "metadata": {},
   "source": [
    "#### Current Monthly Income"
   ]
  },
  {
   "cell_type": "code",
   "execution_count": 49,
   "metadata": {},
   "outputs": [
    {
     "name": "stdout",
     "output_type": "stream",
     "text": [
      "Current monthly income is: $500\n"
     ]
    }
   ],
   "source": [
    "# we just query the 'income' dictionary with the info\n",
    "income_streams =income_response['income']['income_streams']\n",
    "print (f\"Current monthly income is: ${income_streams[0]['monthly_income']}\")"
   ]
  },
  {
   "cell_type": "markdown",
   "metadata": {},
   "source": [
    "#### Projected Year's Income Before Tax"
   ]
  },
  {
   "cell_type": "code",
   "execution_count": 51,
   "metadata": {},
   "outputs": [
    {
     "name": "stdout",
     "output_type": "stream",
     "text": [
      "Projected Year's Income Before Tax is: $7389\n"
     ]
    }
   ],
   "source": [
    "# we just query the 'income' dictionary with the info\n",
    "projected_year_incomeBT =income_response['income']['projected_yearly_income_before_tax']\n",
    "print (f\"Projected Year's Income Before Tax is: ${projected_year_incomeBT}\")"
   ]
  }
 ],
 "metadata": {
  "kernel_info": {
   "name": "dev"
  },
  "kernelspec": {
   "display_name": "Python 3",
   "language": "python",
   "name": "python3"
  },
  "language_info": {
   "codemirror_mode": {
    "name": "ipython",
    "version": 3
   },
   "file_extension": ".py",
   "mimetype": "text/x-python",
   "name": "python",
   "nbconvert_exporter": "python",
   "pygments_lexer": "ipython3",
   "version": "3.7.3"
  },
  "nteract": {
   "version": "0.12.3"
  }
 },
 "nbformat": 4,
 "nbformat_minor": 4
}
